{
 "cells": [
  {
   "cell_type": "markdown",
   "metadata": {},
   "source": [
    "# Lab | Data Structures "
   ]
  },
  {
   "cell_type": "markdown",
   "metadata": {},
   "source": [
    "## Exercise 1: Working with Lists"
   ]
  },
  {
   "cell_type": "markdown",
   "metadata": {},
   "source": [
    "Imagine you are building a program for a teacher who wants to track the progress of their students throughout the semester. The teacher wants to input the grades of each student one by one, and get a summary of their performance. There are in total 5 students. You are tasked with building the program that will allow the teacher to do this easily.\n",
    "\n",
    "The program will prompt the teacher to enter the grades of each student. Once the teacher has entered all the grades, the program will calculate the total sum of the grades and display it on the screen. Then, the program will create a new list by selecting only the grades of the first, third, and fifth students entered by the teacher, and sort them in ascending order.\n",
    "\n",
    "Finally, the program will print out the new list, along with its length and the number of occurrences of the score 5 in the list. This will give the teacher a good overview of the performance of the selected students, and help them identify any potential issues early on."
   ]
  },
  {
   "cell_type": "markdown",
   "metadata": {},
   "source": [
    "*Hint:*\n",
    "- You can use the input() function to ask the user to enter their information.\n",
    "- Look for list methods to perform the tasks. \n",
    "- Remember, it is possible to get a part of the sequence using:\n",
    "\n",
    "    ```python\n",
    "    sequence[x:y:z]\n",
    "    ```\n",
    "    where x, y, z are integers.\n",
    "\n",
    "    The above returns a new sequence with the following characteristics:\n",
    "\n",
    "    - A sequence with the same type as the original (a slice of a list is a list, a slice of a tuple is a tuple, and a slice of a string is a string).\n",
    "    - A sequence with elements from `sequence [x]` to `sequence [y-1]` (does not include a sequence [y]). By skipping `z` elements each time, it can be omitted if ` z = 1`.\n"
   ]
  },
  {
   "cell_type": "markdown",
   "metadata": {},
   "source": [
    "*Recommended External Resources:*\n",
    "- *[Python Lists](https://www.w3schools.com/python/python_lists.asp)*\n",
    "- *[Python List Methods](https://www.w3schools.com/python/python_ref_list.asp)*\n",
    "- *[Python Built-in Functions](https://docs.python.org/3/library/functions.html)*\n"
   ]
  },
  {
   "cell_type": "code",
   "execution_count": 23,
   "metadata": {},
   "outputs": [
    {
     "name": "stdin",
     "output_type": "stream",
     "text": [
      "Please enter the grade of Student 1: 5\n",
      "Please enter the grade of Student 2: 3\n",
      "Please enter the grade of Student 3: 6\n",
      "Please enter the grade of Student 4: 23\n",
      "Please enter the grade of Student 5: 5\n"
     ]
    },
    {
     "name": "stdout",
     "output_type": "stream",
     "text": [
      "The grades are:  [5, 3, 6, 23, 5]\n",
      "The sum of the grades is:  42\n",
      "The grades of student 1, 3 and 5 are (sorted in ascending order):  [5, 5, 6]\n",
      "The length of the new grade list is:  3\n",
      "The grade 5 appears 2 times in the new list!\n"
     ]
    }
   ],
   "source": [
    "# Your code here\n",
    "grades = []\n",
    "for i in range (1,6):\n",
    "    grade = int(input(f\"Please enter the grade of Student {i}:\"))\n",
    "    grades.append(grade)\n",
    "print (\"The grades are: \", grades)\n",
    "print (\"The sum of the grades is: \", sum(grades))\n",
    "\n",
    "grades_new = grades[0:6:2]\n",
    "grades_new.sort()\n",
    "print (\"The grades of student 1, 3 and 5 are (sorted in ascending order): \", grades_new)\n",
    "print (\"The length of the new grade list is: \", len(grades_new))\n",
    "print(f\"The grade 5 appears {grades_new.count(5)} times in the new list!\")\n"
   ]
  },
  {
   "cell_type": "markdown",
   "metadata": {},
   "source": [
    "## Exercise 2: Tuples"
   ]
  },
  {
   "cell_type": "markdown",
   "metadata": {},
   "source": [
    "Imagine you're running a fruit stand and want to keep track of your inventory. Write a Python program that does the following:\n",
    "\n",
    "- Initializes a tuple with 5 different types of fruit.\n",
    "- Outputs the first and last elements of the tuple, so you can see the full range of fruits the store offers.\n",
    "- Replaces the second element of the tuple with a new fruit that the store has recently received, and prints the updated tuple so you can see the changes.\n",
    "- Concatenates a new tuple containing 2 additional fruits to the original tuple, so you can add them to the store inventory, and prints the resulting tuple to see the updated inventory.\n",
    "- Splits the resulting tuple into 2 tuples of 3 elements each (the first tuple contains the first 3 elements, and the second tuple contains the last 3 elements), so you can organize the inventory more effectively.\n",
    "- Combines the 2 tuples from the previous step with the original tuple into a new tuple, and prints the resulting tuple and its length, so you can see the final inventory after all the changes."
   ]
  },
  {
   "cell_type": "markdown",
   "metadata": {},
   "source": [
    "*Recommended External Resources: [Python Tuples Examples and Methods](https://www.w3schools.com/python/python_tuples.asp)*\n",
    "\n"
   ]
  },
  {
   "cell_type": "code",
   "execution_count": 6,
   "metadata": {},
   "outputs": [
    {
     "name": "stdout",
     "output_type": "stream",
     "text": [
      "banana kiwi\n"
     ]
    }
   ],
   "source": [
    "# Your code here\n",
    "fruits = (\"banana\", \"apple\", \"orange\", \"pear\", \"kiwi\")\n",
    "print (fruits[0],fruits[len(fruits)-1])"
   ]
  },
  {
   "cell_type": "code",
   "execution_count": 8,
   "metadata": {},
   "outputs": [
    {
     "name": "stdout",
     "output_type": "stream",
     "text": [
      "banana kiwi\n"
     ]
    }
   ],
   "source": [
    "print (fruits[0], fruits[-1])"
   ]
  },
  {
   "cell_type": "code",
   "execution_count": 10,
   "metadata": {},
   "outputs": [
    {
     "name": "stdout",
     "output_type": "stream",
     "text": [
      "banana kiwi\n"
     ]
    }
   ],
   "source": [
    "print (*fruits[::len(fruits)-1])"
   ]
  },
  {
   "cell_type": "code",
   "execution_count": 12,
   "metadata": {},
   "outputs": [
    {
     "name": "stdout",
     "output_type": "stream",
     "text": [
      "['banana', 'apple', 'orange', 'pear', 'kiwi']\n",
      "['banana', 'strawberry', 'orange', 'pear', 'kiwi']\n",
      "('banana', 'strawberry', 'orange', 'pear', 'kiwi')\n"
     ]
    }
   ],
   "source": [
    "fruits_list = list(fruits)\n",
    "print (fruits_list)\n",
    "fruits_list[1] = \"strawberry\"\n",
    "print (fruits_list)\n",
    "fruits = tuple(fruits_list)\n",
    "print (fruits)"
   ]
  },
  {
   "cell_type": "code",
   "execution_count": 14,
   "metadata": {},
   "outputs": [
    {
     "name": "stdout",
     "output_type": "stream",
     "text": [
      "('banana', 'strawberry', 'orange', 'pear', 'kiwi', 'mango', 'lemon')\n"
     ]
    }
   ],
   "source": [
    "new_fruits = (\"mango\", \"lemon\")\n",
    "combined_fruits = fruits + new_fruits\n",
    "print (combined_fruits)"
   ]
  },
  {
   "cell_type": "code",
   "execution_count": 16,
   "metadata": {},
   "outputs": [
    {
     "name": "stdout",
     "output_type": "stream",
     "text": [
      "('banana', 'strawberry', 'orange')\n",
      "('kiwi', 'mango', 'lemon')\n"
     ]
    }
   ],
   "source": [
    "fruits_first_half = combined_fruits[:3]\n",
    "fruits_second_half = combined_fruits[4:7]\n",
    "print (fruits_first_half)\n",
    "print (fruits_second_half)"
   ]
  },
  {
   "cell_type": "code",
   "execution_count": 18,
   "metadata": {},
   "outputs": [
    {
     "name": "stdout",
     "output_type": "stream",
     "text": [
      "('banana', 'strawberry', 'orange', 'kiwi', 'mango', 'lemon', 'banana', 'strawberry', 'orange', 'pear', 'kiwi')\n",
      "11\n"
     ]
    }
   ],
   "source": [
    "final_tuple = fruits_first_half + fruits_second_half + fruits\n",
    "print (final_tuple)\n",
    "print (len(final_tuple))"
   ]
  },
  {
   "cell_type": "markdown",
   "metadata": {},
   "source": [
    "## Exercise 3: Sets"
   ]
  },
  {
   "cell_type": "markdown",
   "metadata": {},
   "source": [
    "Imagine you are a data analyst working for a literature museum. Your manager has given you two poems to analyze, and she wants you to write a Python program to extract useful information from them.\n",
    "\n",
    "Your program should:\n",
    "\n",
    "- Create two sets, one for each poem, containing all unique words in both poems (ignoring case and punctuation).\n",
    "- Print the number of unique words in each set.\n",
    "- Identify and print the unique words present in the first poem but not in the second one.\n",
    "- Identify and print the unique words present in the second poem but not in the first one.\n",
    "- Identify and print the unique words present in both poems and print it in alphabetical order."
   ]
  },
  {
   "cell_type": "markdown",
   "metadata": {},
   "source": [
    "*Recommended External Resources:*\n",
    "- *[Python Sets](https://www.w3schools.com/python/python_sets.asp)* \n",
    "- *[Python Set Methods](https://www.w3schools.com/python/python_ref_set.asp)*\n",
    "- *[Python String Methods](https://www.w3schools.com/python/python_ref_string.asp)*\n"
   ]
  },
  {
   "cell_type": "code",
   "execution_count": 22,
   "metadata": {},
   "outputs": [],
   "source": [
    "poem = \"\"\"Some say the world will end in fire,\n",
    "Some say in ice.\n",
    "From what I’ve tasted of desire\n",
    "I hold with those who favor fire.\n",
    "But if it had to perish twice,\n",
    "I think I know enough of hate\n",
    "To say that for destruction ice\n",
    "Is also great\n",
    "And would suffice.\"\"\"\n",
    "\n",
    "new_poem = \"\"\"Some say life is but a dream,\n",
    "Some say it's a test.\n",
    "From what I've seen and what I deem,\n",
    "I side with those who see it as a quest.\n",
    "\n",
    "But if it had to end today,\n",
    "I think I know enough of love,\n",
    "To say that though it fades away,\n",
    "It's still what we are made of.\"\"\""
   ]
  },
  {
   "cell_type": "code",
   "execution_count": 63,
   "metadata": {},
   "outputs": [
    {
     "name": "stdout",
     "output_type": "stream",
     "text": [
      "51\n",
      "41\n",
      "42\n",
      "{'had', 'tasted', 'for', 'would', 'perish', 'it', 'will', 'that', 'desire', 'end', 'i’ve', 'in', 'twice', 'world', 'some', 'know', 'is', 'hate', 'of', 'suffice', 'those', 'favor', 'think', 'great', 'fire', 'destruction', 'but', 'with', 'to', 'i', 'who', 'also', 'say', 'the', 'hold', 'what', 'ice', 'enough', 'if', 'and', 'from'}\n",
      "{'had', 'seen', 'away', 'it', 'still', 'life', 'ive', 'that', 'end', 'know', 'some', 'made', 'dream', 'see', 'quest', 'we', 'is', 'fades', 'a', 'are', 'love', 'today', 'of', 'those', 'think', 'side', 'its', 'but', 'test', 'with', 'to', 'i', 'who', 'say', 'what', 'as', 'though', 'enough', 'if', 'and', 'deem', 'from'}\n",
      "62\n",
      "{'had', 'for', 'would', 'it', 'still', 'will', 'life', 'see', 'is', 'fades', 'a', 'today', 'suffice', 'favor', 'think', 'side', 'its', 'destruction', 'to', 'i', 'who', 'what', 'as', 'enough', 'if', 'and', 'deem', 'from', 'seen', 'tasted', 'away', 'perish', 'that', 'ive', 'desire', 'end', 'i’ve', 'in', 'twice', 'world', 'some', 'know', 'made', 'dream', 'quest', 'we', 'hate', 'are', 'love', 'of', 'those', 'great', 'fire', 'but', 'test', 'with', 'also', 'say', 'hold', 'ice', 'though', 'the'}\n",
      "['a', 'also', 'and', 'are', 'as', 'away', 'but', 'deem', 'desire', 'destruction', 'dream', 'end', 'enough', 'fades', 'favor', 'fire', 'for', 'from', 'great', 'had', 'hate', 'hold', 'i', 'ice', 'if', 'in', 'is', 'it', 'its', 'ive', 'i’ve', 'know', 'life', 'love', 'made', 'of', 'perish', 'quest', 'say', 'see', 'seen', 'side', 'some', 'still', 'suffice', 'tasted', 'test', 'that', 'the', 'think', 'those', 'though', 'to', 'today', 'twice', 'we', 'what', 'who', 'will', 'with', 'world', 'would']\n"
     ]
    }
   ],
   "source": [
    "# Your code here\n",
    "import string\n",
    "\n",
    "poem_lower_nopunct = poem.translate(str.maketrans('', '', string.punctuation)).lower()\n",
    "poem_list = poem_lower_nopunct.split()\n",
    "\n",
    "new_poem_lower_nopunct = new_poem.translate(str.maketrans('', '', string.punctuation)).lower()\n",
    "new_poem_list = new_poem_lower_nopunct.split()\n",
    "\n",
    "poem_set = set(poem_list)\n",
    "new_poem_set = set(new_poem_list)\n",
    "\n",
    "\n",
    "print (len(poem_list))\n",
    "print (len(poem_set))\n",
    "print (len(new_poem_set))\n",
    "\n",
    "print(poem_set)\n",
    "\n",
    "print(new_poem_set)\n",
    "\n",
    "poem_union = poem_set| new_poem_set\n",
    "\n",
    "print (len(poem_union))\n",
    "print (poem_union)\n",
    "\n",
    "sorted_poem_union = sorted(list(poem_union))\n",
    "print (sorted_poem_union)"
   ]
  },
  {
   "cell_type": "markdown",
   "metadata": {},
   "source": [
    "## Exercise 4: Dictionaries"
   ]
  },
  {
   "cell_type": "markdown",
   "metadata": {},
   "source": [
    "Consider the following dictionary of students with their scores in different subjects. One of the students, Bob, has complained about his score in Philosophy and, after reviewing it, the teacher has decided to update his score to 100. Write a Python program that updates Bob's score in Philosophy to 100 in the dictionary."
   ]
  },
  {
   "cell_type": "markdown",
   "metadata": {},
   "source": [
    "*Recommended External Resources: [Python Dictionary Examples and Methods](https://www.w3schools.com/python/python_dictionaries.asp)*\n"
   ]
  },
  {
   "cell_type": "code",
   "execution_count": 65,
   "metadata": {},
   "outputs": [],
   "source": [
    "grades = {'Alice': {'Physics': 75, 'Math': 85, 'Chemistry': 60, 'Philosophy': 90}, 'Bob': {'Physics': 75, 'Math': 85, 'Chemistry': 60, 'Philosophy': 90}}"
   ]
  },
  {
   "cell_type": "code",
   "execution_count": 67,
   "metadata": {},
   "outputs": [
    {
     "name": "stdout",
     "output_type": "stream",
     "text": [
      "{'Alice': {'Physics': 75, 'Math': 85, 'Chemistry': 60, 'Philosophy': 90}, 'Bob': {'Physics': 75, 'Math': 85, 'Chemistry': 60, 'Philosophy': 100}}\n"
     ]
    }
   ],
   "source": [
    "# Your code here\n",
    "grades [\"Bob\"][\"Philosophy\"] = 100\n",
    "\n",
    "print (grades)"
   ]
  },
  {
   "cell_type": "markdown",
   "metadata": {},
   "source": [
    "## Bonus"
   ]
  },
  {
   "cell_type": "markdown",
   "metadata": {},
   "source": [
    "1. Below are the two lists. Write a Python program to convert them into a dictionary in a way that item from list1 is the key and item from list2 is the value."
   ]
  },
  {
   "cell_type": "markdown",
   "metadata": {},
   "source": [
    "*Hint: Use the zip() function. This function takes two or more iterables (like list, dict, string), aggregates them in a tuple, and returns it. Afterwards, you can use a function that turns a tuple into a dictionary.*"
   ]
  },
  {
   "cell_type": "markdown",
   "metadata": {},
   "source": [
    "*Recommended External Resources: [Python Zip Function](https://www.w3schools.com/python/ref_func_zip.asp)*\n"
   ]
  },
  {
   "cell_type": "code",
   "execution_count": 77,
   "metadata": {},
   "outputs": [
    {
     "name": "stdout",
     "output_type": "stream",
     "text": [
      "{'Physics': 75, 'Math': 85, 'Chemistry': 60, 'Philosophy': 90}\n",
      "<class 'dict'>\n"
     ]
    }
   ],
   "source": [
    "keys = ['Physics', 'Math', 'Chemistry', 'Philosophy']\n",
    "values = [75, 85, 60,90]\n",
    "\n",
    "# Your code here\n",
    "subj_grades = {keys: values for keys, values in zip(keys, values)}\n",
    "print (subj_grades)\n",
    "print (type(subj_grades))"
   ]
  },
  {
   "cell_type": "code",
   "execution_count": 75,
   "metadata": {},
   "outputs": [
    {
     "name": "stdout",
     "output_type": "stream",
     "text": [
      "{'Physics': 75, 'Math': 85, 'Chemistry': 60, 'Philosophy': 90}\n",
      "<class 'dict'>\n"
     ]
    }
   ],
   "source": [
    "keys = ['Physics', 'Math', 'Chemistry', 'Philosophy']\n",
    "values = [75, 85, 60,90]\n",
    "\n",
    "subj_grades = {}\n",
    "for keys, values in zip(keys,values):\n",
    "    subj_grades[keys] = values\n",
    "\n",
    "print (subj_grades)\n",
    "print (type(subj_grades))"
   ]
  },
  {
   "cell_type": "markdown",
   "metadata": {},
   "source": [
    "2. Get the subject with the minimum score from the previous dictionary."
   ]
  },
  {
   "cell_type": "markdown",
   "metadata": {},
   "source": [
    "*Hint: Use the built-in function min(). Read about the parameter key.*"
   ]
  },
  {
   "cell_type": "markdown",
   "metadata": {},
   "source": [
    "\n",
    "*Recommended External Resources:*\n",
    "- *[Python Min Function Official Documentation](https://docs.python.org/3.8/library/functions.html#min)*\n",
    "- *[How to use key function in max and min in Python](https://medium.com/analytics-vidhya/how-to-use-key-function-in-max-and-min-in-python-1fdbd661c59c)*"
   ]
  },
  {
   "cell_type": "code",
   "execution_count": 99,
   "metadata": {},
   "outputs": [
    {
     "name": "stdout",
     "output_type": "stream",
     "text": [
      "subject with min score is: Chemistry, and the minimum score of this subject is: 60\n"
     ]
    }
   ],
   "source": [
    "min_subject = min(subj_grades, key = subj_grades.get)\n",
    "\n",
    "print(f\"subject with min score is: {min_subject}, and the minimum score of this subject is: {subj_grades[min_subject]}\")"
   ]
  },
  {
   "cell_type": "code",
   "execution_count": 83,
   "metadata": {},
   "outputs": [
    {
     "data": {
      "text/plain": [
       "60"
      ]
     },
     "execution_count": 83,
     "metadata": {},
     "output_type": "execute_result"
    }
   ],
   "source": [
    "# Your code here\n",
    "min(subj_grades.values())"
   ]
  },
  {
   "cell_type": "code",
   "execution_count": 85,
   "metadata": {},
   "outputs": [
    {
     "data": {
      "text/plain": [
       "'Chemistry'"
      ]
     },
     "execution_count": 85,
     "metadata": {},
     "output_type": "execute_result"
    }
   ],
   "source": [
    "min(subj_grades)"
   ]
  },
  {
   "cell_type": "code",
   "execution_count": 93,
   "metadata": {},
   "outputs": [
    {
     "name": "stdout",
     "output_type": "stream",
     "text": [
      "{75: 'Physics', 85: 'Math', 60: 'Chemistry', 90: 'Philosophy'}\n",
      "The subject with the minimum score is: Chemistry\n"
     ]
    }
   ],
   "source": [
    "rev_subj_grades = {v:k for k,v in subj_grades.items()}\n",
    "print (rev_subj_grades)\n",
    "\n",
    "#The subject with the minimum score:\n",
    "print (f\"The subject with the minimum score is: {rev_subj_grades[60]}\")"
   ]
  },
  {
   "cell_type": "code",
   "execution_count": null,
   "metadata": {},
   "outputs": [],
   "source": []
  }
 ],
 "metadata": {
  "kernelspec": {
   "display_name": "Python 3 (ipykernel)",
   "language": "python",
   "name": "python3"
  },
  "language_info": {
   "codemirror_mode": {
    "name": "ipython",
    "version": 3
   },
   "file_extension": ".py",
   "mimetype": "text/x-python",
   "name": "python",
   "nbconvert_exporter": "python",
   "pygments_lexer": "ipython3",
   "version": "3.12.4"
  }
 },
 "nbformat": 4,
 "nbformat_minor": 4
}
